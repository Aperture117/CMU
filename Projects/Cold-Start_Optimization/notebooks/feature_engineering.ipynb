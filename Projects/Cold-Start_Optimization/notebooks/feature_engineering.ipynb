{
 "cells": [
  {
   "cell_type": "markdown",
   "id": "e6dc33f6",
   "metadata": {},
   "source": [
    "# Feature engineering for Cold-start Items"
   ]
  },
  {
   "cell_type": "markdown",
   "id": "044058fb",
   "metadata": {},
   "source": [
    "####  My project goal is \"context recognization Cold-Start Item micro LLM\". So, we need to focus on \n",
    "1. Optimize input in micro LLM\n",
    "2. Context recognization and find features in cold-start Items\n",
    "\n",
    "#### Step 0: Metadata preprocessing"
   ]
  },
  {
   "cell_type": "code",
   "execution_count": null,
   "id": "46ee4a25",
   "metadata": {},
   "outputs": [],
   "source": [
    "import pandas as pd\n",
    "from datasets import load_dataset\n",
    "from tqdm.notebook import tqdm\n",
    "import re\n",
    "from collections import Counter\n",
    "\n",
    "# Load the dataset\n",
    "meta_dataset = load_dataset(\"McAuley-Lab/Amazon-Reviews-2023\", \"raw_meta_All_Beauty\", split=\"full\", trust_remote_code=True)\n",
    "\n",
    "# Convert to pandas DataFrame\n",
    "meta_df = pd.DataFrame(meta_dataset)"
   ]
  },
  {
   "cell_type": "code",
   "execution_count": null,
   "id": "a8474e59",
   "metadata": {},
   "outputs": [
    {
     "name": "stdout",
     "output_type": "stream",
     "text": [
      "Meta DataFrame ready for merge with reviews.\n"
     ]
    }
   ],
   "source": [
    "# Preprocessing (Store in metadata)\n",
    "def extract_data(dict):\n",
    "    if pd.isna(dict):\n",
    "        return \"[Unknown]\"\n",
    "\n",
    "# Dealing with missing values\n",
    "meta_df['store_cleaned'] = meta_df['store'].apply(lambda x: extract_data(x))\n",
    "meta_df['main_category_cleaned'] = meta_df['main_category'].apply(lambda x: extract_data(x))\n",
    "meta_df['title_cleaned'] = meta_df['title'].apply(lambda x: extract_data(x))\n",
    "meta_df['features_cleaned'] = meta_df['features'].apply(lambda x: \" \".join(x) if isinstance(x, list) and x else \"[NO_FEATURES]\")\n",
    "meta_df['description_cleaned'] = meta_df['description'].apply(lambda x: \" \".join(x) if isinstance(x, list) and x else \"[NO_DESCRIPTION]\")\n",
    "meta_df['images_cleaned'] = meta_df['images'].apply(lambda x: \" \".join(x) if isinstance(x, list) and x else \"[NO_IMAGES]\")\n",
    "meta_df['videos_cleaned'] = meta_df['videos'].apply(lambda x: \" \".join(x) if isinstance(x, list) and x else \"[NO_VIDEOS]\")\n",
    "meta_df['hierarchical_categories_flat'] = meta_df['categories'].apply(lambda x: \" > \".join(x) if isinstance(x, list) and x else \"[NO_HIERARCHICAL_CATEGORIES]\")\n",
    "meta_df['details_cleaned'] = meta_df['details'].apply(lambda x: \" \".join(x) if isinstance(x, list) and x else \"[NO_DETAILS]\")\n",
    "\n",
    "# Select relevant columns to merge with reviews and LLM input\n",
    "meta_for_merge = meta_df[['parent_asin','title_cleaned', 'store_cleaned', 'main_category_cleaned',\n",
    "                          'features_cleaned', 'description_cleaned','rating_number','average_rating','price',\n",
    "                          'hierarchical_categories_flat', 'details_cleaned']].set_index('parent_asin')\n",
    "\n",
    "print(\"Meta DataFrame ready for merge with reviews.\")"
   ]
  },
  {
   "cell_type": "markdown",
   "id": "7795a546",
   "metadata": {},
   "source": [
    "### Step 1: Review dataset preprocessing"
   ]
  },
  {
   "cell_type": "code",
   "execution_count": null,
   "id": "45c438e9",
   "metadata": {},
   "outputs": [],
   "source": [
    "review_dataset = load_dataset(\"McAuley-Lab/Amazon-Reviews-2023\", \"raw_review_All_Beauty\", split=\"full\", trust_remote_code=True)\n",
    "\n",
    "review_df = \n",
    "# Preprocessing reviews\n",
    "review_df['']"
   ]
  }
 ],
 "metadata": {
  "kernelspec": {
   "display_name": "Python 3",
   "language": "python",
   "name": "python3"
  },
  "language_info": {
   "codemirror_mode": {
    "name": "ipython",
    "version": 3
   },
   "file_extension": ".py",
   "mimetype": "text/x-python",
   "name": "python",
   "nbconvert_exporter": "python",
   "pygments_lexer": "ipython3",
   "version": "3.12.5"
  }
 },
 "nbformat": 4,
 "nbformat_minor": 5
}
